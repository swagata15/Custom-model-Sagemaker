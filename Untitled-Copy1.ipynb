{
 "cells": [
  {
   "cell_type": "code",
   "execution_count": 58,
   "id": "935c8a86",
   "metadata": {},
   "outputs": [],
   "source": [
    "import io\n",
    "import os\n",
    "import sys\n",
    "import time\n",
    "import json\n",
    "from IPython.display import display\n",
    "import sagemaker as sage\n",
    "from time import strftime, gmtime\n",
    "import boto3\n",
    "import re"
   ]
  },
  {
   "cell_type": "code",
   "execution_count": 59,
   "id": "ce881f39",
   "metadata": {},
   "outputs": [],
   "source": [
    "import sagemaker\n",
    "from sagemaker import get_execution_role"
   ]
  },
  {
   "cell_type": "code",
   "execution_count": 60,
   "id": "3ed08fc0",
   "metadata": {},
   "outputs": [],
   "source": [
    "sess = boto3.Session()\n",
    "sm = sess.client('sagemaker')\n",
    "role = sagemaker.get_execution_role()"
   ]
  },
  {
   "cell_type": "code",
   "execution_count": 61,
   "id": "b4d827bc",
   "metadata": {},
   "outputs": [],
   "source": [
    "docker_image_name = 'XXXXXXXXXXXX.dkr.ecr.us-east-1.amazonaws.com/custom:latest'\n"
   ]
  },
  {
   "cell_type": "code",
   "execution_count": 62,
   "id": "c54edf2b",
   "metadata": {},
   "outputs": [],
   "source": [
    "account_id = sess.client('sts', region_name=sess.region_name).get_caller_identity()[\"Account\"]\n",
    "bucket = 'sagemaker-{}-{}'.format(sess.region_name, account_id)\n",
    "#bucket = sess.default_bucket()    \n",
    "prefix = 'custom'"
   ]
  },
  {
   "cell_type": "code",
   "execution_count": 63,
   "id": "e9bdca33",
   "metadata": {},
   "outputs": [
    {
     "data": {
      "text/plain": [
       "'sagemaker-us-east-1-871876053574'"
      ]
     },
     "execution_count": 63,
     "metadata": {},
     "output_type": "execute_result"
    }
   ],
   "source": [
    "bucket"
   ]
  },
  {
   "cell_type": "code",
   "execution_count": 64,
   "id": "a2e9a79c",
   "metadata": {},
   "outputs": [
    {
     "name": "stdout",
     "output_type": "stream",
     "text": [
      "/home/ec2-user/SageMaker\n"
     ]
    }
   ],
   "source": [
    "!pwd"
   ]
  },
  {
   "cell_type": "code",
   "execution_count": 65,
   "id": "d7a9e7f1",
   "metadata": {},
   "outputs": [],
   "source": [
    "sess = sage.Session()"
   ]
  },
  {
   "cell_type": "code",
   "execution_count": 66,
   "id": "4a6474b1",
   "metadata": {},
   "outputs": [],
   "source": [
    "WORK_DIRECTORY = \"data\"\n",
    "\n",
    "data_location = sess.upload_data(WORK_DIRECTORY, key_prefix=prefix)"
   ]
  },
  {
   "cell_type": "markdown",
   "id": "14babaa9",
   "metadata": {},
   "source": [
    "\n",
    "## Create Estimator with custom model"
   ]
  },
  {
   "cell_type": "code",
   "execution_count": 68,
   "id": "576925a0",
   "metadata": {},
   "outputs": [
    {
     "name": "stderr",
     "output_type": "stream",
     "text": [
      "train_instance_count has been renamed in sagemaker>=2.\n",
      "See: https://sagemaker.readthedocs.io/en/stable/v2.html for details.\n",
      "train_instance_type has been renamed in sagemaker>=2.\n",
      "See: https://sagemaker.readthedocs.io/en/stable/v2.html for details.\n"
     ]
    }
   ],
   "source": [
    "sess = sagemaker.session.Session()\n",
    "custom = sagemaker.estimator.Estimator(image_uri=docker_image_name,\n",
    "                                    role=role,\n",
    "                                    train_instance_count=1, \n",
    "                                    train_instance_type='ml.m5.large',\n",
    "                                    output_path='s3://{}/{}/output'.format(bucket, ''),\n",
    "                                    base_job_name=\"custom\")\n",
    "                                    #sagemaker_session=sess)"
   ]
  },
  {
   "cell_type": "markdown",
   "id": "850cf345",
   "metadata": {},
   "source": [
    "## Have to \"train\" model even if just for inference"
   ]
  },
  {
   "cell_type": "code",
   "execution_count": 69,
   "id": "d4f85941",
   "metadata": {},
   "outputs": [
    {
     "name": "stdout",
     "output_type": "stream",
     "text": [
      "2022-05-18 16:51:15 Starting - Starting the training job...\n",
      "2022-05-18 16:51:34 Starting - Preparing the instances for trainingProfilerReport-1652892675: InProgress\n",
      ".........\n",
      "2022-05-18 16:53:10 Downloading - Downloading input data...\n",
      "2022-05-18 16:53:41 Training - Training image download completed. Training in progress..\u001b[34mStarting the training.\u001b[0m\n",
      "\u001b[34m['/opt/ml/input/data/training/.ipynb_checkpoints', '/opt/ml/input/data/training/shape_suggest.csv']\u001b[0m\n",
      "\u001b[34mTraining is now complete.\u001b[0m\n",
      "\n",
      "2022-05-18 16:54:30 Uploading - Uploading generated training model\n",
      "2022-05-18 16:54:30 Completed - Training job completed\n",
      "Training seconds: 96\n",
      "Billable seconds: 96\n"
     ]
    }
   ],
   "source": [
    "custom.fit(data_location)\n"
   ]
  },
  {
   "cell_type": "markdown",
   "id": "de7c94bd",
   "metadata": {},
   "source": [
    "## Deploy custom model"
   ]
  },
  {
   "cell_type": "code",
   "execution_count": null,
   "id": "6f0d7a07",
   "metadata": {},
   "outputs": [],
   "source": [
    "endpoint_name = 'custom-endpoint'\n",
    "custom.deploy(initial_instance_count=1, \n",
    "                                             instance_type='local', \n",
    "                                             endpoint_name=endpoint_name)\n"
   ]
  },
  {
   "cell_type": "markdown",
   "id": "959ff056",
   "metadata": {},
   "source": [
    "## Delete endpoint when you don't need your model deployed"
   ]
  },
  {
   "cell_type": "code",
   "execution_count": null,
   "id": "2a48caea",
   "metadata": {},
   "outputs": [],
   "source": [
    "sm.delete_endpoint(EndpointName=endpoint_name)"
   ]
  },
  {
   "cell_type": "code",
   "execution_count": null,
   "id": "ad6cc02b",
   "metadata": {},
   "outputs": [],
   "source": [
    "runtime = boto3.Session().client(\"runtime.sagemaker\")"
   ]
  },
  {
   "cell_type": "code",
   "execution_count": null,
   "id": "b4781c0f",
   "metadata": {},
   "outputs": [],
   "source": [
    "payload = 'your-input-goes-here'"
   ]
  },
  {
   "cell_type": "code",
   "execution_count": null,
   "id": "d615c49c",
   "metadata": {},
   "outputs": [],
   "source": [
    "response = runtime.invoke_endpoint(EndpointName='custom-endpoint', ContentType=\"text/csv\", Body=payload)"
   ]
  },
  {
   "cell_type": "code",
   "execution_count": null,
   "id": "f6718f97",
   "metadata": {},
   "outputs": [],
   "source": [
    "result = json.loads(response[\"Body\"].read().decode())\n",
    "display(result)"
   ]
  }
 ],
 "metadata": {
  "kernelspec": {
   "display_name": "conda_pytorch_latest_p36",
   "language": "python",
   "name": "conda_pytorch_latest_p36"
  },
  "language_info": {
   "codemirror_mode": {
    "name": "ipython",
    "version": 3
   },
   "file_extension": ".py",
   "mimetype": "text/x-python",
   "name": "python",
   "nbconvert_exporter": "python",
   "pygments_lexer": "ipython3",
   "version": "3.6.13"
  }
 },
 "nbformat": 4,
 "nbformat_minor": 5
}
